{
 "cells": [
  {
   "cell_type": "code",
   "execution_count": 3,
   "metadata": {},
   "outputs": [],
   "source": [
    "import pandas as pd\n",
    "import numpy as np"
   ]
  },
  {
   "cell_type": "code",
   "execution_count": 2,
   "metadata": {},
   "outputs": [],
   "source": [
    "df = pd.read_csv(\"cannabis.csv\")"
   ]
  },
  {
   "cell_type": "code",
   "execution_count": 3,
   "metadata": {},
   "outputs": [
    {
     "data": {
      "text/html": [
       "<div>\n",
       "<style scoped>\n",
       "    .dataframe tbody tr th:only-of-type {\n",
       "        vertical-align: middle;\n",
       "    }\n",
       "\n",
       "    .dataframe tbody tr th {\n",
       "        vertical-align: top;\n",
       "    }\n",
       "\n",
       "    .dataframe thead th {\n",
       "        text-align: right;\n",
       "    }\n",
       "</style>\n",
       "<table border=\"1\" class=\"dataframe\">\n",
       "  <thead>\n",
       "    <tr style=\"text-align: right;\">\n",
       "      <th></th>\n",
       "      <th>Strain</th>\n",
       "      <th>Type</th>\n",
       "      <th>Rating</th>\n",
       "      <th>Effects</th>\n",
       "      <th>Flavor</th>\n",
       "      <th>Description</th>\n",
       "    </tr>\n",
       "  </thead>\n",
       "  <tbody>\n",
       "    <tr>\n",
       "      <td>0</td>\n",
       "      <td>100-Og</td>\n",
       "      <td>hybrid</td>\n",
       "      <td>4.0</td>\n",
       "      <td>Creative,Energetic,Tingly,Euphoric,Relaxed</td>\n",
       "      <td>Earthy,Sweet,Citrus</td>\n",
       "      <td>$100 OG is a 50/50 hybrid strain that packs a ...</td>\n",
       "    </tr>\n",
       "    <tr>\n",
       "      <td>1</td>\n",
       "      <td>98-White-Widow</td>\n",
       "      <td>hybrid</td>\n",
       "      <td>4.7</td>\n",
       "      <td>Relaxed,Aroused,Creative,Happy,Energetic</td>\n",
       "      <td>Flowery,Violet,Diesel</td>\n",
       "      <td>The ‘98 Aloha White Widow is an especially pot...</td>\n",
       "    </tr>\n",
       "    <tr>\n",
       "      <td>2</td>\n",
       "      <td>1024</td>\n",
       "      <td>sativa</td>\n",
       "      <td>4.4</td>\n",
       "      <td>Uplifted,Happy,Relaxed,Energetic,Creative</td>\n",
       "      <td>Spicy/Herbal,Sage,Woody</td>\n",
       "      <td>1024 is a sativa-dominant hybrid bred in Spain...</td>\n",
       "    </tr>\n",
       "  </tbody>\n",
       "</table>\n",
       "</div>"
      ],
      "text/plain": [
       "           Strain    Type  Rating                                     Effects  \\\n",
       "0          100-Og  hybrid     4.0  Creative,Energetic,Tingly,Euphoric,Relaxed   \n",
       "1  98-White-Widow  hybrid     4.7    Relaxed,Aroused,Creative,Happy,Energetic   \n",
       "2            1024  sativa     4.4   Uplifted,Happy,Relaxed,Energetic,Creative   \n",
       "\n",
       "                    Flavor                                        Description  \n",
       "0      Earthy,Sweet,Citrus  $100 OG is a 50/50 hybrid strain that packs a ...  \n",
       "1    Flowery,Violet,Diesel  The ‘98 Aloha White Widow is an especially pot...  \n",
       "2  Spicy/Herbal,Sage,Woody  1024 is a sativa-dominant hybrid bred in Spain...  "
      ]
     },
     "execution_count": 3,
     "metadata": {},
     "output_type": "execute_result"
    }
   ],
   "source": [
    "df.head(3)"
   ]
  },
  {
   "cell_type": "code",
   "execution_count": 4,
   "metadata": {},
   "outputs": [
    {
     "data": {
      "text/plain": [
       "Strain          0\n",
       "Type            0\n",
       "Rating          0\n",
       "Effects         0\n",
       "Flavor         46\n",
       "Description    33\n",
       "dtype: int64"
      ]
     },
     "execution_count": 4,
     "metadata": {},
     "output_type": "execute_result"
    }
   ],
   "source": [
    "df.isnull().sum()"
   ]
  },
  {
   "cell_type": "code",
   "execution_count": 5,
   "metadata": {},
   "outputs": [],
   "source": [
    "# df['Description'].value_counts(dropna=False)\n",
    "df1 = df.dropna()"
   ]
  },
  {
   "cell_type": "code",
   "execution_count": 6,
   "metadata": {},
   "outputs": [
    {
     "data": {
      "text/plain": [
       "((2277, 6), (2351, 6))"
      ]
     },
     "execution_count": 6,
     "metadata": {},
     "output_type": "execute_result"
    }
   ],
   "source": [
    "df1.shape, df.shape"
   ]
  },
  {
   "cell_type": "code",
   "execution_count": 7,
   "metadata": {},
   "outputs": [
    {
     "data": {
      "text/html": [
       "<div>\n",
       "<style scoped>\n",
       "    .dataframe tbody tr th:only-of-type {\n",
       "        vertical-align: middle;\n",
       "    }\n",
       "\n",
       "    .dataframe tbody tr th {\n",
       "        vertical-align: top;\n",
       "    }\n",
       "\n",
       "    .dataframe thead th {\n",
       "        text-align: right;\n",
       "    }\n",
       "</style>\n",
       "<table border=\"1\" class=\"dataframe\">\n",
       "  <thead>\n",
       "    <tr style=\"text-align: right;\">\n",
       "      <th></th>\n",
       "      <th>Strain</th>\n",
       "      <th>Type</th>\n",
       "      <th>Rating</th>\n",
       "      <th>Effects</th>\n",
       "      <th>Flavor</th>\n",
       "      <th>Description</th>\n",
       "    </tr>\n",
       "  </thead>\n",
       "  <tbody>\n",
       "    <tr>\n",
       "      <td>0</td>\n",
       "      <td>100-Og</td>\n",
       "      <td>hybrid</td>\n",
       "      <td>4.0</td>\n",
       "      <td>Creative,Energetic,Tingly,Euphoric,Relaxed</td>\n",
       "      <td>Earthy,Sweet,Citrus</td>\n",
       "      <td>$100 OG is a 50/50 hybrid strain that packs a ...</td>\n",
       "    </tr>\n",
       "    <tr>\n",
       "      <td>1</td>\n",
       "      <td>98-White-Widow</td>\n",
       "      <td>hybrid</td>\n",
       "      <td>4.7</td>\n",
       "      <td>Relaxed,Aroused,Creative,Happy,Energetic</td>\n",
       "      <td>Flowery,Violet,Diesel</td>\n",
       "      <td>The ‘98 Aloha White Widow is an especially pot...</td>\n",
       "    </tr>\n",
       "    <tr>\n",
       "      <td>2</td>\n",
       "      <td>1024</td>\n",
       "      <td>sativa</td>\n",
       "      <td>4.4</td>\n",
       "      <td>Uplifted,Happy,Relaxed,Energetic,Creative</td>\n",
       "      <td>Spicy/Herbal,Sage,Woody</td>\n",
       "      <td>1024 is a sativa-dominant hybrid bred in Spain...</td>\n",
       "    </tr>\n",
       "  </tbody>\n",
       "</table>\n",
       "</div>"
      ],
      "text/plain": [
       "           Strain    Type  Rating                                     Effects  \\\n",
       "0          100-Og  hybrid     4.0  Creative,Energetic,Tingly,Euphoric,Relaxed   \n",
       "1  98-White-Widow  hybrid     4.7    Relaxed,Aroused,Creative,Happy,Energetic   \n",
       "2            1024  sativa     4.4   Uplifted,Happy,Relaxed,Energetic,Creative   \n",
       "\n",
       "                    Flavor                                        Description  \n",
       "0      Earthy,Sweet,Citrus  $100 OG is a 50/50 hybrid strain that packs a ...  \n",
       "1    Flowery,Violet,Diesel  The ‘98 Aloha White Widow is an especially pot...  \n",
       "2  Spicy/Herbal,Sage,Woody  1024 is a sativa-dominant hybrid bred in Spain...  "
      ]
     },
     "execution_count": 7,
     "metadata": {},
     "output_type": "execute_result"
    }
   ],
   "source": [
    "df1.head(3)"
   ]
  },
  {
   "cell_type": "code",
   "execution_count": 8,
   "metadata": {},
   "outputs": [
    {
     "name": "stderr",
     "output_type": "stream",
     "text": [
      "C:\\Users\\ryanh\\Anaconda2\\lib\\site-packages\\ipykernel_launcher.py:1: SettingWithCopyWarning: \n",
      "A value is trying to be set on a copy of a slice from a DataFrame.\n",
      "Try using .loc[row_indexer,col_indexer] = value instead\n",
      "\n",
      "See the caveats in the documentation: http://pandas.pydata.org/pandas-docs/stable/user_guide/indexing.html#returning-a-view-versus-a-copy\n",
      "  \"\"\"Entry point for launching an IPython kernel.\n",
      "C:\\Users\\ryanh\\Anaconda2\\lib\\site-packages\\ipykernel_launcher.py:2: SettingWithCopyWarning: \n",
      "A value is trying to be set on a copy of a slice from a DataFrame.\n",
      "Try using .loc[row_indexer,col_indexer] = value instead\n",
      "\n",
      "See the caveats in the documentation: http://pandas.pydata.org/pandas-docs/stable/user_guide/indexing.html#returning-a-view-versus-a-copy\n",
      "  \n",
      "C:\\Users\\ryanh\\Anaconda2\\lib\\site-packages\\ipykernel_launcher.py:3: SettingWithCopyWarning: \n",
      "A value is trying to be set on a copy of a slice from a DataFrame.\n",
      "Try using .loc[row_indexer,col_indexer] = value instead\n",
      "\n",
      "See the caveats in the documentation: http://pandas.pydata.org/pandas-docs/stable/user_guide/indexing.html#returning-a-view-versus-a-copy\n",
      "  This is separate from the ipykernel package so we can avoid doing imports until\n",
      "C:\\Users\\ryanh\\Anaconda2\\lib\\site-packages\\ipykernel_launcher.py:4: SettingWithCopyWarning: \n",
      "A value is trying to be set on a copy of a slice from a DataFrame.\n",
      "Try using .loc[row_indexer,col_indexer] = value instead\n",
      "\n",
      "See the caveats in the documentation: http://pandas.pydata.org/pandas-docs/stable/user_guide/indexing.html#returning-a-view-versus-a-copy\n",
      "  after removing the cwd from sys.path.\n"
     ]
    },
    {
     "data": {
      "text/html": [
       "<div>\n",
       "<style scoped>\n",
       "    .dataframe tbody tr th:only-of-type {\n",
       "        vertical-align: middle;\n",
       "    }\n",
       "\n",
       "    .dataframe tbody tr th {\n",
       "        vertical-align: top;\n",
       "    }\n",
       "\n",
       "    .dataframe thead th {\n",
       "        text-align: right;\n",
       "    }\n",
       "</style>\n",
       "<table border=\"1\" class=\"dataframe\">\n",
       "  <thead>\n",
       "    <tr style=\"text-align: right;\">\n",
       "      <th></th>\n",
       "      <th>Strain</th>\n",
       "      <th>Type</th>\n",
       "      <th>Rating</th>\n",
       "      <th>Effects</th>\n",
       "      <th>Flavor</th>\n",
       "      <th>Description</th>\n",
       "    </tr>\n",
       "  </thead>\n",
       "  <tbody>\n",
       "    <tr>\n",
       "      <td>0</td>\n",
       "      <td>100-og</td>\n",
       "      <td>hybrid</td>\n",
       "      <td>4.0</td>\n",
       "      <td>creative,energetic,tingly,euphoric,relaxed</td>\n",
       "      <td>earthy,sweet,citrus</td>\n",
       "      <td>$100 og is a 50/50 hybrid strain that packs a ...</td>\n",
       "    </tr>\n",
       "    <tr>\n",
       "      <td>1</td>\n",
       "      <td>98-white-widow</td>\n",
       "      <td>hybrid</td>\n",
       "      <td>4.7</td>\n",
       "      <td>relaxed,aroused,creative,happy,energetic</td>\n",
       "      <td>flowery,violet,diesel</td>\n",
       "      <td>the ‘98 aloha white widow is an especially pot...</td>\n",
       "    </tr>\n",
       "    <tr>\n",
       "      <td>2</td>\n",
       "      <td>1024</td>\n",
       "      <td>sativa</td>\n",
       "      <td>4.4</td>\n",
       "      <td>uplifted,happy,relaxed,energetic,creative</td>\n",
       "      <td>spicy/herbal,sage,woody</td>\n",
       "      <td>1024 is a sativa-dominant hybrid bred in spain...</td>\n",
       "    </tr>\n",
       "  </tbody>\n",
       "</table>\n",
       "</div>"
      ],
      "text/plain": [
       "           Strain    Type  Rating                                     Effects  \\\n",
       "0          100-og  hybrid     4.0  creative,energetic,tingly,euphoric,relaxed   \n",
       "1  98-white-widow  hybrid     4.7    relaxed,aroused,creative,happy,energetic   \n",
       "2            1024  sativa     4.4   uplifted,happy,relaxed,energetic,creative   \n",
       "\n",
       "                    Flavor                                        Description  \n",
       "0      earthy,sweet,citrus  $100 og is a 50/50 hybrid strain that packs a ...  \n",
       "1    flowery,violet,diesel  the ‘98 aloha white widow is an especially pot...  \n",
       "2  spicy/herbal,sage,woody  1024 is a sativa-dominant hybrid bred in spain...  "
      ]
     },
     "execution_count": 8,
     "metadata": {},
     "output_type": "execute_result"
    }
   ],
   "source": [
    "df1['Effects'] = df1['Effects'].str.lower()\n",
    "df1['Flavor'] = df1['Flavor'].str.lower()\n",
    "df1['Description'] = df1['Description'].str.lower()\n",
    "df1['Strain'] = df1['Strain'].str.lower()\n",
    "df1.head(3)"
   ]
  },
  {
   "cell_type": "code",
   "execution_count": 9,
   "metadata": {},
   "outputs": [],
   "source": [
    "df1 = df1.reset_index()"
   ]
  },
  {
   "cell_type": "code",
   "execution_count": 10,
   "metadata": {},
   "outputs": [
    {
     "data": {
      "text/html": [
       "<div>\n",
       "<style scoped>\n",
       "    .dataframe tbody tr th:only-of-type {\n",
       "        vertical-align: middle;\n",
       "    }\n",
       "\n",
       "    .dataframe tbody tr th {\n",
       "        vertical-align: top;\n",
       "    }\n",
       "\n",
       "    .dataframe thead th {\n",
       "        text-align: right;\n",
       "    }\n",
       "</style>\n",
       "<table border=\"1\" class=\"dataframe\">\n",
       "  <thead>\n",
       "    <tr style=\"text-align: right;\">\n",
       "      <th></th>\n",
       "      <th>index</th>\n",
       "      <th>Strain</th>\n",
       "      <th>Type</th>\n",
       "      <th>Rating</th>\n",
       "      <th>Effects</th>\n",
       "      <th>Flavor</th>\n",
       "      <th>Description</th>\n",
       "    </tr>\n",
       "  </thead>\n",
       "  <tbody>\n",
       "    <tr>\n",
       "      <td>0</td>\n",
       "      <td>0</td>\n",
       "      <td>100-og</td>\n",
       "      <td>hybrid</td>\n",
       "      <td>4.0</td>\n",
       "      <td>creative,energetic,tingly,euphoric,relaxed</td>\n",
       "      <td>earthy,sweet,citrus</td>\n",
       "      <td>$100 og is a 50/50 hybrid strain that packs a ...</td>\n",
       "    </tr>\n",
       "    <tr>\n",
       "      <td>1</td>\n",
       "      <td>1</td>\n",
       "      <td>98-white-widow</td>\n",
       "      <td>hybrid</td>\n",
       "      <td>4.7</td>\n",
       "      <td>relaxed,aroused,creative,happy,energetic</td>\n",
       "      <td>flowery,violet,diesel</td>\n",
       "      <td>the ‘98 aloha white widow is an especially pot...</td>\n",
       "    </tr>\n",
       "    <tr>\n",
       "      <td>2</td>\n",
       "      <td>2</td>\n",
       "      <td>1024</td>\n",
       "      <td>sativa</td>\n",
       "      <td>4.4</td>\n",
       "      <td>uplifted,happy,relaxed,energetic,creative</td>\n",
       "      <td>spicy/herbal,sage,woody</td>\n",
       "      <td>1024 is a sativa-dominant hybrid bred in spain...</td>\n",
       "    </tr>\n",
       "  </tbody>\n",
       "</table>\n",
       "</div>"
      ],
      "text/plain": [
       "   index          Strain    Type  Rating  \\\n",
       "0      0          100-og  hybrid     4.0   \n",
       "1      1  98-white-widow  hybrid     4.7   \n",
       "2      2            1024  sativa     4.4   \n",
       "\n",
       "                                      Effects                   Flavor  \\\n",
       "0  creative,energetic,tingly,euphoric,relaxed      earthy,sweet,citrus   \n",
       "1    relaxed,aroused,creative,happy,energetic    flowery,violet,diesel   \n",
       "2   uplifted,happy,relaxed,energetic,creative  spicy/herbal,sage,woody   \n",
       "\n",
       "                                         Description  \n",
       "0  $100 og is a 50/50 hybrid strain that packs a ...  \n",
       "1  the ‘98 aloha white widow is an especially pot...  \n",
       "2  1024 is a sativa-dominant hybrid bred in spain...  "
      ]
     },
     "execution_count": 10,
     "metadata": {},
     "output_type": "execute_result"
    }
   ],
   "source": [
    "df1.head(3)"
   ]
  },
  {
   "cell_type": "code",
   "execution_count": 11,
   "metadata": {},
   "outputs": [
    {
     "data": {
      "text/html": [
       "<div>\n",
       "<style scoped>\n",
       "    .dataframe tbody tr th:only-of-type {\n",
       "        vertical-align: middle;\n",
       "    }\n",
       "\n",
       "    .dataframe tbody tr th {\n",
       "        vertical-align: top;\n",
       "    }\n",
       "\n",
       "    .dataframe thead th {\n",
       "        text-align: right;\n",
       "    }\n",
       "</style>\n",
       "<table border=\"1\" class=\"dataframe\">\n",
       "  <thead>\n",
       "    <tr style=\"text-align: right;\">\n",
       "      <th></th>\n",
       "      <th>index</th>\n",
       "      <th>Strain</th>\n",
       "      <th>Type</th>\n",
       "      <th>Rating</th>\n",
       "      <th>Effects</th>\n",
       "      <th>Flavor</th>\n",
       "      <th>Description</th>\n",
       "    </tr>\n",
       "  </thead>\n",
       "  <tbody>\n",
       "    <tr>\n",
       "      <td>0</td>\n",
       "      <td>0</td>\n",
       "      <td>100-og</td>\n",
       "      <td>hybrid</td>\n",
       "      <td>4.0</td>\n",
       "      <td>creative,energetic,tingly,euphoric,relaxed</td>\n",
       "      <td>earthy,sweet,citrus</td>\n",
       "      <td>$100 og is a 50/50 hybrid strain that packs a ...</td>\n",
       "    </tr>\n",
       "    <tr>\n",
       "      <td>1</td>\n",
       "      <td>1</td>\n",
       "      <td>98-white-widow</td>\n",
       "      <td>hybrid</td>\n",
       "      <td>4.7</td>\n",
       "      <td>relaxed,aroused,creative,happy,energetic</td>\n",
       "      <td>flowery,violet,diesel</td>\n",
       "      <td>the ‘98 aloha white widow is an especially pot...</td>\n",
       "    </tr>\n",
       "    <tr>\n",
       "      <td>2</td>\n",
       "      <td>2</td>\n",
       "      <td>1024</td>\n",
       "      <td>sativa</td>\n",
       "      <td>4.4</td>\n",
       "      <td>uplifted,happy,relaxed,energetic,creative</td>\n",
       "      <td>spicy/herbal,sage,woody</td>\n",
       "      <td>1024 is a sativa-dominant hybrid bred in spain...</td>\n",
       "    </tr>\n",
       "    <tr>\n",
       "      <td>3</td>\n",
       "      <td>3</td>\n",
       "      <td>13-dawgs</td>\n",
       "      <td>hybrid</td>\n",
       "      <td>4.2</td>\n",
       "      <td>tingly,creative,hungry,relaxed,uplifted</td>\n",
       "      <td>apricot,citrus,grapefruit</td>\n",
       "      <td>13 dawgs is a hybrid of g13 and chemdawg genet...</td>\n",
       "    </tr>\n",
       "    <tr>\n",
       "      <td>4</td>\n",
       "      <td>4</td>\n",
       "      <td>24k-gold</td>\n",
       "      <td>hybrid</td>\n",
       "      <td>4.6</td>\n",
       "      <td>happy,relaxed,euphoric,uplifted,talkative</td>\n",
       "      <td>citrus,earthy,orange</td>\n",
       "      <td>also known as kosher tangie, 24k gold is a 60%...</td>\n",
       "    </tr>\n",
       "  </tbody>\n",
       "</table>\n",
       "</div>"
      ],
      "text/plain": [
       "   index          Strain    Type  Rating  \\\n",
       "0      0          100-og  hybrid     4.0   \n",
       "1      1  98-white-widow  hybrid     4.7   \n",
       "2      2            1024  sativa     4.4   \n",
       "3      3        13-dawgs  hybrid     4.2   \n",
       "4      4        24k-gold  hybrid     4.6   \n",
       "\n",
       "                                      Effects                     Flavor  \\\n",
       "0  creative,energetic,tingly,euphoric,relaxed        earthy,sweet,citrus   \n",
       "1    relaxed,aroused,creative,happy,energetic      flowery,violet,diesel   \n",
       "2   uplifted,happy,relaxed,energetic,creative    spicy/herbal,sage,woody   \n",
       "3     tingly,creative,hungry,relaxed,uplifted  apricot,citrus,grapefruit   \n",
       "4   happy,relaxed,euphoric,uplifted,talkative       citrus,earthy,orange   \n",
       "\n",
       "                                         Description  \n",
       "0  $100 og is a 50/50 hybrid strain that packs a ...  \n",
       "1  the ‘98 aloha white widow is an especially pot...  \n",
       "2  1024 is a sativa-dominant hybrid bred in spain...  \n",
       "3  13 dawgs is a hybrid of g13 and chemdawg genet...  \n",
       "4  also known as kosher tangie, 24k gold is a 60%...  "
      ]
     },
     "execution_count": 11,
     "metadata": {},
     "output_type": "execute_result"
    }
   ],
   "source": [
    "df2 = df1[df1.Description != 'none']\n",
    "df2.head()"
   ]
  },
  {
   "cell_type": "code",
   "execution_count": 12,
   "metadata": {},
   "outputs": [
    {
     "data": {
      "text/plain": [
       "grape crush (or grapekrush) is an indica-heavy hybrid strain with just enough sativa to keep the high energizing and smooth. this plant was bred by dj short to be an outdoor grower, but with the right tlc, grape crush delivers indoors as well. the strain comes from blueberry parents and inherited their purple to blue coloring and their namesake berry flavor. grape crush plants flower in 8-9 weeks, and the buds are intended to produce a slow-moving high that relaxes the body and inspires the mind.                                                                                                                                                                                                 2\n",
       "b-witched by ocean grown seeds is a magical cross of arcane genetics. by combining ogs wizard’s potion and the famous witches weed, a frosted herbaceous phantasm is brought to life, exhibiting notes of grape, forest floor, and grapefruit. its terpene profile has also been described as “cupcake-ish.” the effects of b-witched are enthralling, muting stress, anxiety, and nausea with ease.                                                                                                                                                                                                                                                                                                                  2\n",
       "blue trainwreck is a sativa-dominant hybrid cross of trainwreck and blueberry. this strain, sometimes known as blueberry trainwreck, blue wreck, and blue train, is well-loved for its pleasurable blend of flavors and effects. it expresses trichome-laden spade-shaped buds that are emerald green with amber hairs. blue trainwreck offers a sweet blueberry aroma, pungent earthy flavors, and effects that energize and focus. utilize this hybrid to improve mood and combat fatigue.                                                                                                                                                                                                                          2\n",
       "super cheese, bred by positronics, is a throwback to the old school strains that filled the coffee shops of amsterdam in the late 1980s. super cheese was created through inbreeding, crossing cheese genetics with another select phenotype believed to be exodus cheese. the aroma of this indica-dominant hybrid is a mix of skunky musk and a pungent blue cheese funk that has become synonymous with cheese varieties. the flavor is a strong, smooth blend of bittersweet herbs and cream, like an earthy buttermilk.                                                                                                                                                                                          1\n",
       "purple voodoo is one of those true hybrids that is a nearly 50/50 mix of sativa and indica from its double purple doja, purple urkle, and purple diesel heritage. these plants will flower in 8-10 weeks and will produce dark flowers with traces of purple and red. its purpleness is evident in its pungent taste and smell, which has a musky quality tinged with grapey sweetness. since it was bred in california, warm climates or indoors are best for growing (just be aware of the strong smell). as a good mix, this strain boasts both high thc and especially high cbd levels, making it a popular medicinal strain. the high also has a balanced feeling that is both clear and relaxing.               1\n",
       "                                                                                                                                                                                                                                                                                                                                                                                                                                                                                                                                                                                                                                                                                                                     ..\n",
       "django means “i awake,” in romani, and this upbeat sativa will have you saying just that. active and light, this strain’s effects might not be great for those looking for pain relief or strong relaxation. but if you want to lift your mood without losing energy, django is just the thing.                                                                                                                                                                                                                                                                                                                                                                                                                       1\n",
       "sunshine is a sativa-dominant cannabis strain produced by the canadian lp peace naturals project. with a name like sunshine, you could probably guess that this sativa promises blissful, happy, uplifted effects even on rainy, dark days. the sweet fruity and citrus flavors run with sunshine’s tropical theme, taking you to a warm place where pain, nausea, and appetite loss don’t exist.                                                                                                                                                                                                                                                                                                                     1\n",
       "the sativa-dominant hybrid orange haze by green devil genetics combines a flavorful orange bud with the classic haze. from orange bud, it inherits a sweet citrus flavor while haze provides this hybrid with all of our favorite sativa effects: energy, focus, euphoria, and creativity. orange haze’s dense, sticky buds are threaded with fiery copper hairs, giving this strain an unmistakable appearance akin to its orange bud parent. green devil genetics recommends a 64-day flowering time indoors, or a mid-october harvest for outdoor gardens.                                                                                                                                                         1\n",
       "pacific blue by falcanna is a flavorful cut with a thc content that consistently reaches above 20%. this indica-dominant strain was bred by crossing the legendary kush powerhouse pre-98 bubba kush with the fruity phenom dj short blueberry. these robust and flavorful genetics offer aromas of sweet skunk and blueberry with a smooth floral aftertaste. pacific blue’s effects vary with dosage, but the onset is calming and euphoric, insulating the consumer in carefree bliss. this strain can get rather sedating with continued consumption, weighing on the limbs and gluing the body to the couch. utilize falcanna’s pacific blue to help with headaches, nausea, anxiety, and restlessness.          1\n",
       "chocoholic by mighty irish seeds is a flavorful hybrid with rich colors. this strain is a cross of chocolope skunkberry and daluxberry, and carries an earthy, sweet aroma that stinks of a dutch coffee shop. the effects creep up on the body, weighing the consumer down with continued consumption. chocoholic develops into a medium-sized plant with an average yield and above-average potency.                                                                                                                                                                                                                                                                                                                1\n",
       "Name: Description, Length: 2270, dtype: int64"
      ]
     },
     "execution_count": 12,
     "metadata": {},
     "output_type": "execute_result"
    }
   ],
   "source": [
    "df2['Description'].value_counts()"
   ]
  },
  {
   "cell_type": "code",
   "execution_count": 25,
   "metadata": {},
   "outputs": [],
   "source": [
    "df2.to_csv('clean_can.csv')"
   ]
  },
  {
   "cell_type": "code",
   "execution_count": 15,
   "metadata": {},
   "outputs": [],
   "source": [
    "df3 = df2.drop(['index'], axis=1)"
   ]
  },
  {
   "cell_type": "code",
   "execution_count": 17,
   "metadata": {},
   "outputs": [
    {
     "data": {
      "text/html": [
       "<div>\n",
       "<style scoped>\n",
       "    .dataframe tbody tr th:only-of-type {\n",
       "        vertical-align: middle;\n",
       "    }\n",
       "\n",
       "    .dataframe tbody tr th {\n",
       "        vertical-align: top;\n",
       "    }\n",
       "\n",
       "    .dataframe thead th {\n",
       "        text-align: right;\n",
       "    }\n",
       "</style>\n",
       "<table border=\"1\" class=\"dataframe\">\n",
       "  <thead>\n",
       "    <tr style=\"text-align: right;\">\n",
       "      <th></th>\n",
       "      <th>Strain</th>\n",
       "      <th>Type</th>\n",
       "      <th>Rating</th>\n",
       "      <th>Effects</th>\n",
       "      <th>Flavor</th>\n",
       "      <th>Description</th>\n",
       "    </tr>\n",
       "  </thead>\n",
       "  <tbody>\n",
       "    <tr>\n",
       "      <td>0</td>\n",
       "      <td>100-og</td>\n",
       "      <td>hybrid</td>\n",
       "      <td>4.0</td>\n",
       "      <td>creative,energetic,tingly,euphoric,relaxed</td>\n",
       "      <td>earthy,sweet,citrus</td>\n",
       "      <td>$100 og is a 50/50 hybrid strain that packs a ...</td>\n",
       "    </tr>\n",
       "    <tr>\n",
       "      <td>1</td>\n",
       "      <td>98-white-widow</td>\n",
       "      <td>hybrid</td>\n",
       "      <td>4.7</td>\n",
       "      <td>relaxed,aroused,creative,happy,energetic</td>\n",
       "      <td>flowery,violet,diesel</td>\n",
       "      <td>the ‘98 aloha white widow is an especially pot...</td>\n",
       "    </tr>\n",
       "    <tr>\n",
       "      <td>2</td>\n",
       "      <td>1024</td>\n",
       "      <td>sativa</td>\n",
       "      <td>4.4</td>\n",
       "      <td>uplifted,happy,relaxed,energetic,creative</td>\n",
       "      <td>spicy/herbal,sage,woody</td>\n",
       "      <td>1024 is a sativa-dominant hybrid bred in spain...</td>\n",
       "    </tr>\n",
       "  </tbody>\n",
       "</table>\n",
       "</div>"
      ],
      "text/plain": [
       "           Strain    Type  Rating                                     Effects  \\\n",
       "0          100-og  hybrid     4.0  creative,energetic,tingly,euphoric,relaxed   \n",
       "1  98-white-widow  hybrid     4.7    relaxed,aroused,creative,happy,energetic   \n",
       "2            1024  sativa     4.4   uplifted,happy,relaxed,energetic,creative   \n",
       "\n",
       "                    Flavor                                        Description  \n",
       "0      earthy,sweet,citrus  $100 og is a 50/50 hybrid strain that packs a ...  \n",
       "1    flowery,violet,diesel  the ‘98 aloha white widow is an especially pot...  \n",
       "2  spicy/herbal,sage,woody  1024 is a sativa-dominant hybrid bred in spain...  "
      ]
     },
     "execution_count": 17,
     "metadata": {},
     "output_type": "execute_result"
    }
   ],
   "source": [
    "df3.head(3)"
   ]
  },
  {
   "cell_type": "code",
   "execution_count": 18,
   "metadata": {},
   "outputs": [
    {
     "data": {
      "text/plain": [
       "Strain          0\n",
       "Type            0\n",
       "Rating          0\n",
       "Effects         0\n",
       "Flavor         46\n",
       "Description    33\n",
       "dtype: int64"
      ]
     },
     "execution_count": 18,
     "metadata": {},
     "output_type": "execute_result"
    }
   ],
   "source": [
    "df.isnull().sum()"
   ]
  },
  {
   "cell_type": "code",
   "execution_count": 19,
   "metadata": {},
   "outputs": [],
   "source": [
    "df['Effects'] = df['Effects'].str.lower()\n",
    "df['Flavor'] = df['Flavor'].str.lower()\n",
    "df['Description'] = df['Description'].str.lower()\n",
    "df['Strain'] = df['Strain'].str.lower()"
   ]
  },
  {
   "cell_type": "code",
   "execution_count": 20,
   "metadata": {},
   "outputs": [],
   "source": [
    "effects_df = df3[df3.Effects != 'none']\n",
    "flavor_df = df3[df3.Flavor != 'none']"
   ]
  },
  {
   "cell_type": "code",
   "execution_count": 21,
   "metadata": {},
   "outputs": [
    {
     "data": {
      "text/plain": [
       "none                                      73\n",
       "relaxed,sleepy,happy,euphoric,uplifted    20\n",
       "relaxed,sleepy,happy,euphoric,hungry      18\n",
       "relaxed,happy,euphoric,uplifted,sleepy    15\n",
       "relaxed,happy,sleepy,euphoric,hungry      15\n",
       "Name: Effects, dtype: int64"
      ]
     },
     "execution_count": 21,
     "metadata": {},
     "output_type": "execute_result"
    }
   ],
   "source": [
    "df3['Effects'].value_counts().head()"
   ]
  },
  {
   "cell_type": "code",
   "execution_count": 22,
   "metadata": {},
   "outputs": [
    {
     "data": {
      "text/plain": [
       "((2273, 6), (2200, 6), (2167, 6))"
      ]
     },
     "execution_count": 22,
     "metadata": {},
     "output_type": "execute_result"
    }
   ],
   "source": [
    "df3.shape, effects_df.shape, flavor_df.shape"
   ]
  },
  {
   "cell_type": "code",
   "execution_count": 23,
   "metadata": {},
   "outputs": [
    {
     "data": {
      "text/plain": [
       "none                    106\n",
       "earthy,sweet,pungent     25\n",
       "sweet,earthy,pungent     19\n",
       "earthy,pungent,woody     19\n",
       "earthy,pungent,sweet     19\n",
       "Name: Flavor, dtype: int64"
      ]
     },
     "execution_count": 23,
     "metadata": {},
     "output_type": "execute_result"
    }
   ],
   "source": [
    "df3['Flavor'].value_counts().head()"
   ]
  },
  {
   "cell_type": "code",
   "execution_count": 24,
   "metadata": {},
   "outputs": [],
   "source": [
    "effects_df.to_csv('effects.csv')"
   ]
  },
  {
   "cell_type": "code",
   "execution_count": 26,
   "metadata": {},
   "outputs": [],
   "source": [
    "flavor_df.to_csv('flavor.csv')"
   ]
  },
  {
   "cell_type": "code",
   "execution_count": 1,
   "metadata": {},
   "outputs": [],
   "source": [
    "url = 'https://raw.githubusercontent.com/build-med-cabinet-3/Machine-learning/master/csvs/lab_data.csv'"
   ]
  },
  {
   "cell_type": "code",
   "execution_count": 4,
   "metadata": {},
   "outputs": [],
   "source": [
    "df = pd.read_csv(url, error_bad_lines=False)"
   ]
  },
  {
   "cell_type": "code",
   "execution_count": 5,
   "metadata": {},
   "outputs": [
    {
     "data": {
      "text/html": [
       "<div>\n",
       "<style scoped>\n",
       "    .dataframe tbody tr th:only-of-type {\n",
       "        vertical-align: middle;\n",
       "    }\n",
       "\n",
       "    .dataframe tbody tr th {\n",
       "        vertical-align: top;\n",
       "    }\n",
       "\n",
       "    .dataframe thead th {\n",
       "        text-align: right;\n",
       "    }\n",
       "</style>\n",
       "<table border=\"1\" class=\"dataframe\">\n",
       "  <thead>\n",
       "    <tr style=\"text-align: right;\">\n",
       "      <th></th>\n",
       "      <th>Strain</th>\n",
       "      <th>Type</th>\n",
       "      <th>Percent Indica</th>\n",
       "      <th>Percent Sativa</th>\n",
       "      <th>THC Percent</th>\n",
       "      <th>Description 1</th>\n",
       "      <th>Description 2</th>\n",
       "      <th>Generated Description</th>\n",
       "      <th>Flavor</th>\n",
       "      <th>Effects</th>\n",
       "      <th>...</th>\n",
       "      <th>CBD</th>\n",
       "      <th>CBDV</th>\n",
       "      <th>CBDV-A</th>\n",
       "      <th>delta-9 CBG-A</th>\n",
       "      <th>delta-9 CBG</th>\n",
       "      <th>CBC</th>\n",
       "      <th>Moisture Content</th>\n",
       "      <th>ana360</th>\n",
       "      <th>psilabs</th>\n",
       "      <th>sclabs</th>\n",
       "    </tr>\n",
       "  </thead>\n",
       "  <tbody>\n",
       "    <tr>\n",
       "      <td>0</td>\n",
       "      <td>sugar-cane</td>\n",
       "      <td>hybrid</td>\n",
       "      <td>0.40</td>\n",
       "      <td>0.60</td>\n",
       "      <td>0.20</td>\n",
       "      <td>Sugar Cane is a rare slightly sativa dominant ...</td>\n",
       "      <td>NaN</td>\n",
       "      <td>NaN</td>\n",
       "      <td>Earthy Sweet Candy Grape Spicy Fruity Herbal P...</td>\n",
       "      <td>Body High Cerebral Creative Energizing Relaxin...</td>\n",
       "      <td>...</td>\n",
       "      <td>0.130000</td>\n",
       "      <td>NaN</td>\n",
       "      <td>NaN</td>\n",
       "      <td>0.660000</td>\n",
       "      <td>NaN</td>\n",
       "      <td>0.020000</td>\n",
       "      <td>NaN</td>\n",
       "      <td>1.0</td>\n",
       "      <td>0.0</td>\n",
       "      <td>0.0</td>\n",
       "    </tr>\n",
       "    <tr>\n",
       "      <td>1</td>\n",
       "      <td>chemdawg</td>\n",
       "      <td>hybrid</td>\n",
       "      <td>0.55</td>\n",
       "      <td>0.45</td>\n",
       "      <td>0.19</td>\n",
       "      <td>With a near-even balance between sativa and in...</td>\n",
       "      <td>Chemdawg has developed quite the name for itse...</td>\n",
       "      <td>NaN</td>\n",
       "      <td>Earthy Pungent Chemical Diesel Pine Diesel Ear...</td>\n",
       "      <td>Cerebral Creative Euphoria Happy Relaxing Cere...</td>\n",
       "      <td>...</td>\n",
       "      <td>0.137857</td>\n",
       "      <td>NaN</td>\n",
       "      <td>NaN</td>\n",
       "      <td>0.561875</td>\n",
       "      <td>0.315000</td>\n",
       "      <td>0.069000</td>\n",
       "      <td>NaN</td>\n",
       "      <td>19.0</td>\n",
       "      <td>0.0</td>\n",
       "      <td>0.0</td>\n",
       "    </tr>\n",
       "    <tr>\n",
       "      <td>2</td>\n",
       "      <td>jack-herer</td>\n",
       "      <td>sativa</td>\n",
       "      <td>NaN</td>\n",
       "      <td>NaN</td>\n",
       "      <td>0.23</td>\n",
       "      <td>Jack Herer is easily one of the best-known str...</td>\n",
       "      <td>Jack Herer is a sativa-dominant cannabis strai...</td>\n",
       "      <td>NaN</td>\n",
       "      <td>Earthy Sweet Spicy Herbal Lemon Pine Woody Ear...</td>\n",
       "      <td>Body High Cerebral Creative Euphoria Happy Bod...</td>\n",
       "      <td>...</td>\n",
       "      <td>0.114684</td>\n",
       "      <td>0.0</td>\n",
       "      <td>0.0</td>\n",
       "      <td>0.678750</td>\n",
       "      <td>0.283824</td>\n",
       "      <td>0.046667</td>\n",
       "      <td>13.0</td>\n",
       "      <td>114.0</td>\n",
       "      <td>1.0</td>\n",
       "      <td>2.0</td>\n",
       "    </tr>\n",
       "  </tbody>\n",
       "</table>\n",
       "<p>3 rows × 55 columns</p>\n",
       "</div>"
      ],
      "text/plain": [
       "       Strain    Type  Percent Indica  Percent Sativa  THC Percent  \\\n",
       "0  sugar-cane  hybrid            0.40            0.60         0.20   \n",
       "1    chemdawg  hybrid            0.55            0.45         0.19   \n",
       "2  jack-herer  sativa             NaN             NaN         0.23   \n",
       "\n",
       "                                       Description 1  \\\n",
       "0  Sugar Cane is a rare slightly sativa dominant ...   \n",
       "1  With a near-even balance between sativa and in...   \n",
       "2  Jack Herer is easily one of the best-known str...   \n",
       "\n",
       "                                       Description 2  Generated Description  \\\n",
       "0                                                NaN                    NaN   \n",
       "1  Chemdawg has developed quite the name for itse...                    NaN   \n",
       "2  Jack Herer is a sativa-dominant cannabis strai...                    NaN   \n",
       "\n",
       "                                              Flavor  \\\n",
       "0  Earthy Sweet Candy Grape Spicy Fruity Herbal P...   \n",
       "1  Earthy Pungent Chemical Diesel Pine Diesel Ear...   \n",
       "2  Earthy Sweet Spicy Herbal Lemon Pine Woody Ear...   \n",
       "\n",
       "                                             Effects  ...       CBD CBDV  \\\n",
       "0  Body High Cerebral Creative Energizing Relaxin...  ...  0.130000  NaN   \n",
       "1  Cerebral Creative Euphoria Happy Relaxing Cere...  ...  0.137857  NaN   \n",
       "2  Body High Cerebral Creative Euphoria Happy Bod...  ...  0.114684  0.0   \n",
       "\n",
       "   CBDV-A  delta-9 CBG-A  delta-9 CBG       CBC  Moisture Content  ana360  \\\n",
       "0     NaN       0.660000          NaN  0.020000               NaN     1.0   \n",
       "1     NaN       0.561875     0.315000  0.069000               NaN    19.0   \n",
       "2     0.0       0.678750     0.283824  0.046667              13.0   114.0   \n",
       "\n",
       "   psilabs  sclabs  \n",
       "0      0.0     0.0  \n",
       "1      0.0     0.0  \n",
       "2      1.0     2.0  \n",
       "\n",
       "[3 rows x 55 columns]"
      ]
     },
     "execution_count": 5,
     "metadata": {},
     "output_type": "execute_result"
    }
   ],
   "source": [
    "df.head(3)"
   ]
  },
  {
   "cell_type": "code",
   "execution_count": 6,
   "metadata": {},
   "outputs": [],
   "source": [
    "df.to_csv('can_lab_data.csv')"
   ]
  },
  {
   "cell_type": "code",
   "execution_count": null,
   "metadata": {},
   "outputs": [],
   "source": []
  }
 ],
 "metadata": {
  "kernelspec": {
   "display_name": "Python 3",
   "language": "python",
   "name": "python3"
  },
  "language_info": {
   "codemirror_mode": {
    "name": "ipython",
    "version": 3
   },
   "file_extension": ".py",
   "mimetype": "text/x-python",
   "name": "python",
   "nbconvert_exporter": "python",
   "pygments_lexer": "ipython3",
   "version": "3.7.4"
  }
 },
 "nbformat": 4,
 "nbformat_minor": 4
}
